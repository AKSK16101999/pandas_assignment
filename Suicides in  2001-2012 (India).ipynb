{
 "cells": [
  {
   "cell_type": "code",
   "execution_count": 1,
   "metadata": {},
   "outputs": [],
   "source": [
    " import pandas as pd"
   ]
  },
  {
   "cell_type": "code",
   "execution_count": 2,
   "metadata": {},
   "outputs": [],
   "source": [
    "df = pd.read_csv('/Users/KANAWADE AKSHAY/Downloads/Suicides in  2001-2012 (India).csv')"
   ]
  },
  {
   "cell_type": "code",
   "execution_count": 3,
   "metadata": {},
   "outputs": [
    {
     "data": {
      "text/html": [
       "<div>\n",
       "<style scoped>\n",
       "    .dataframe tbody tr th:only-of-type {\n",
       "        vertical-align: middle;\n",
       "    }\n",
       "\n",
       "    .dataframe tbody tr th {\n",
       "        vertical-align: top;\n",
       "    }\n",
       "\n",
       "    .dataframe thead th {\n",
       "        text-align: right;\n",
       "    }\n",
       "</style>\n",
       "<table border=\"1\" class=\"dataframe\">\n",
       "  <thead>\n",
       "    <tr style=\"text-align: right;\">\n",
       "      <th></th>\n",
       "      <th>State</th>\n",
       "      <th>Year</th>\n",
       "      <th>Type_code</th>\n",
       "      <th>Type</th>\n",
       "      <th>Gender</th>\n",
       "      <th>Age_group</th>\n",
       "      <th>Total</th>\n",
       "    </tr>\n",
       "  </thead>\n",
       "  <tbody>\n",
       "    <tr>\n",
       "      <th>0</th>\n",
       "      <td>A &amp; N Islands</td>\n",
       "      <td>2001</td>\n",
       "      <td>Causes</td>\n",
       "      <td>Illness (Aids/STD)</td>\n",
       "      <td>Female</td>\n",
       "      <td>0-14</td>\n",
       "      <td>0</td>\n",
       "    </tr>\n",
       "    <tr>\n",
       "      <th>1</th>\n",
       "      <td>A &amp; N Islands</td>\n",
       "      <td>2001</td>\n",
       "      <td>Causes</td>\n",
       "      <td>Bankruptcy or Sudden change in Economic</td>\n",
       "      <td>Female</td>\n",
       "      <td>0-14</td>\n",
       "      <td>0</td>\n",
       "    </tr>\n",
       "    <tr>\n",
       "      <th>2</th>\n",
       "      <td>A &amp; N Islands</td>\n",
       "      <td>2001</td>\n",
       "      <td>Causes</td>\n",
       "      <td>Cancellation/Non-Settlement of Marriage</td>\n",
       "      <td>Female</td>\n",
       "      <td>0-14</td>\n",
       "      <td>0</td>\n",
       "    </tr>\n",
       "    <tr>\n",
       "      <th>3</th>\n",
       "      <td>A &amp; N Islands</td>\n",
       "      <td>2001</td>\n",
       "      <td>Causes</td>\n",
       "      <td>Physical Abuse (Rape/Incest Etc.)</td>\n",
       "      <td>Female</td>\n",
       "      <td>0-14</td>\n",
       "      <td>0</td>\n",
       "    </tr>\n",
       "    <tr>\n",
       "      <th>4</th>\n",
       "      <td>A &amp; N Islands</td>\n",
       "      <td>2001</td>\n",
       "      <td>Causes</td>\n",
       "      <td>Dowry Dispute</td>\n",
       "      <td>Female</td>\n",
       "      <td>0-14</td>\n",
       "      <td>0</td>\n",
       "    </tr>\n",
       "    <tr>\n",
       "      <th>...</th>\n",
       "      <td>...</td>\n",
       "      <td>...</td>\n",
       "      <td>...</td>\n",
       "      <td>...</td>\n",
       "      <td>...</td>\n",
       "      <td>...</td>\n",
       "      <td>...</td>\n",
       "    </tr>\n",
       "    <tr>\n",
       "      <th>237514</th>\n",
       "      <td>West Bengal</td>\n",
       "      <td>2012</td>\n",
       "      <td>Social_Status</td>\n",
       "      <td>Seperated</td>\n",
       "      <td>Male</td>\n",
       "      <td>0-100+</td>\n",
       "      <td>149</td>\n",
       "    </tr>\n",
       "    <tr>\n",
       "      <th>237515</th>\n",
       "      <td>West Bengal</td>\n",
       "      <td>2012</td>\n",
       "      <td>Social_Status</td>\n",
       "      <td>Widowed/Widower</td>\n",
       "      <td>Male</td>\n",
       "      <td>0-100+</td>\n",
       "      <td>233</td>\n",
       "    </tr>\n",
       "    <tr>\n",
       "      <th>237516</th>\n",
       "      <td>West Bengal</td>\n",
       "      <td>2012</td>\n",
       "      <td>Social_Status</td>\n",
       "      <td>Married</td>\n",
       "      <td>Male</td>\n",
       "      <td>0-100+</td>\n",
       "      <td>5451</td>\n",
       "    </tr>\n",
       "    <tr>\n",
       "      <th>237517</th>\n",
       "      <td>West Bengal</td>\n",
       "      <td>2012</td>\n",
       "      <td>Social_Status</td>\n",
       "      <td>Divorcee</td>\n",
       "      <td>Male</td>\n",
       "      <td>0-100+</td>\n",
       "      <td>189</td>\n",
       "    </tr>\n",
       "    <tr>\n",
       "      <th>237518</th>\n",
       "      <td>West Bengal</td>\n",
       "      <td>2012</td>\n",
       "      <td>Social_Status</td>\n",
       "      <td>Never Married</td>\n",
       "      <td>Male</td>\n",
       "      <td>0-100+</td>\n",
       "      <td>2658</td>\n",
       "    </tr>\n",
       "  </tbody>\n",
       "</table>\n",
       "<p>237519 rows × 7 columns</p>\n",
       "</div>"
      ],
      "text/plain": [
       "                State  Year      Type_code  \\\n",
       "0       A & N Islands  2001         Causes   \n",
       "1       A & N Islands  2001         Causes   \n",
       "2       A & N Islands  2001         Causes   \n",
       "3       A & N Islands  2001         Causes   \n",
       "4       A & N Islands  2001         Causes   \n",
       "...               ...   ...            ...   \n",
       "237514    West Bengal  2012  Social_Status   \n",
       "237515    West Bengal  2012  Social_Status   \n",
       "237516    West Bengal  2012  Social_Status   \n",
       "237517    West Bengal  2012  Social_Status   \n",
       "237518    West Bengal  2012  Social_Status   \n",
       "\n",
       "                                           Type  Gender Age_group  Total  \n",
       "0                            Illness (Aids/STD)  Female      0-14      0  \n",
       "1       Bankruptcy or Sudden change in Economic  Female      0-14      0  \n",
       "2       Cancellation/Non-Settlement of Marriage  Female      0-14      0  \n",
       "3             Physical Abuse (Rape/Incest Etc.)  Female      0-14      0  \n",
       "4                                 Dowry Dispute  Female      0-14      0  \n",
       "...                                         ...     ...       ...    ...  \n",
       "237514                                Seperated    Male    0-100+    149  \n",
       "237515                          Widowed/Widower    Male    0-100+    233  \n",
       "237516                                  Married    Male    0-100+   5451  \n",
       "237517                                 Divorcee    Male    0-100+    189  \n",
       "237518                            Never Married    Male    0-100+   2658  \n",
       "\n",
       "[237519 rows x 7 columns]"
      ]
     },
     "execution_count": 3,
     "metadata": {},
     "output_type": "execute_result"
    }
   ],
   "source": [
    "df"
   ]
  },
  {
   "cell_type": "code",
   "execution_count": 4,
   "metadata": {},
   "outputs": [
    {
     "data": {
      "text/html": [
       "<div>\n",
       "<style scoped>\n",
       "    .dataframe tbody tr th:only-of-type {\n",
       "        vertical-align: middle;\n",
       "    }\n",
       "\n",
       "    .dataframe tbody tr th {\n",
       "        vertical-align: top;\n",
       "    }\n",
       "\n",
       "    .dataframe thead th {\n",
       "        text-align: right;\n",
       "    }\n",
       "</style>\n",
       "<table border=\"1\" class=\"dataframe\">\n",
       "  <thead>\n",
       "    <tr style=\"text-align: right;\">\n",
       "      <th></th>\n",
       "      <th>State</th>\n",
       "      <th>Year</th>\n",
       "      <th>Type_code</th>\n",
       "      <th>Type</th>\n",
       "      <th>Gender</th>\n",
       "      <th>Age_group</th>\n",
       "      <th>Total</th>\n",
       "    </tr>\n",
       "  </thead>\n",
       "  <tbody>\n",
       "    <tr>\n",
       "      <th>0</th>\n",
       "      <td>A &amp; N Islands</td>\n",
       "      <td>2001</td>\n",
       "      <td>Causes</td>\n",
       "      <td>Illness (Aids/STD)</td>\n",
       "      <td>Female</td>\n",
       "      <td>0-14</td>\n",
       "      <td>0</td>\n",
       "    </tr>\n",
       "    <tr>\n",
       "      <th>1</th>\n",
       "      <td>A &amp; N Islands</td>\n",
       "      <td>2001</td>\n",
       "      <td>Causes</td>\n",
       "      <td>Bankruptcy or Sudden change in Economic</td>\n",
       "      <td>Female</td>\n",
       "      <td>0-14</td>\n",
       "      <td>0</td>\n",
       "    </tr>\n",
       "    <tr>\n",
       "      <th>2</th>\n",
       "      <td>A &amp; N Islands</td>\n",
       "      <td>2001</td>\n",
       "      <td>Causes</td>\n",
       "      <td>Cancellation/Non-Settlement of Marriage</td>\n",
       "      <td>Female</td>\n",
       "      <td>0-14</td>\n",
       "      <td>0</td>\n",
       "    </tr>\n",
       "    <tr>\n",
       "      <th>3</th>\n",
       "      <td>A &amp; N Islands</td>\n",
       "      <td>2001</td>\n",
       "      <td>Causes</td>\n",
       "      <td>Physical Abuse (Rape/Incest Etc.)</td>\n",
       "      <td>Female</td>\n",
       "      <td>0-14</td>\n",
       "      <td>0</td>\n",
       "    </tr>\n",
       "    <tr>\n",
       "      <th>4</th>\n",
       "      <td>A &amp; N Islands</td>\n",
       "      <td>2001</td>\n",
       "      <td>Causes</td>\n",
       "      <td>Dowry Dispute</td>\n",
       "      <td>Female</td>\n",
       "      <td>0-14</td>\n",
       "      <td>0</td>\n",
       "    </tr>\n",
       "  </tbody>\n",
       "</table>\n",
       "</div>"
      ],
      "text/plain": [
       "           State  Year Type_code                                     Type  \\\n",
       "0  A & N Islands  2001    Causes                       Illness (Aids/STD)   \n",
       "1  A & N Islands  2001    Causes  Bankruptcy or Sudden change in Economic   \n",
       "2  A & N Islands  2001    Causes  Cancellation/Non-Settlement of Marriage   \n",
       "3  A & N Islands  2001    Causes        Physical Abuse (Rape/Incest Etc.)   \n",
       "4  A & N Islands  2001    Causes                            Dowry Dispute   \n",
       "\n",
       "   Gender Age_group  Total  \n",
       "0  Female      0-14      0  \n",
       "1  Female      0-14      0  \n",
       "2  Female      0-14      0  \n",
       "3  Female      0-14      0  \n",
       "4  Female      0-14      0  "
      ]
     },
     "execution_count": 4,
     "metadata": {},
     "output_type": "execute_result"
    }
   ],
   "source": [
    "df.head(5)"
   ]
  },
  {
   "cell_type": "code",
   "execution_count": 5,
   "metadata": {},
   "outputs": [
    {
     "data": {
      "text/html": [
       "<div>\n",
       "<style scoped>\n",
       "    .dataframe tbody tr th:only-of-type {\n",
       "        vertical-align: middle;\n",
       "    }\n",
       "\n",
       "    .dataframe tbody tr th {\n",
       "        vertical-align: top;\n",
       "    }\n",
       "\n",
       "    .dataframe thead th {\n",
       "        text-align: right;\n",
       "    }\n",
       "</style>\n",
       "<table border=\"1\" class=\"dataframe\">\n",
       "  <thead>\n",
       "    <tr style=\"text-align: right;\">\n",
       "      <th></th>\n",
       "      <th>State</th>\n",
       "      <th>Year</th>\n",
       "      <th>Type_code</th>\n",
       "      <th>Type</th>\n",
       "      <th>Gender</th>\n",
       "      <th>Age_group</th>\n",
       "      <th>Total</th>\n",
       "    </tr>\n",
       "  </thead>\n",
       "  <tbody>\n",
       "    <tr>\n",
       "      <th>237514</th>\n",
       "      <td>West Bengal</td>\n",
       "      <td>2012</td>\n",
       "      <td>Social_Status</td>\n",
       "      <td>Seperated</td>\n",
       "      <td>Male</td>\n",
       "      <td>0-100+</td>\n",
       "      <td>149</td>\n",
       "    </tr>\n",
       "    <tr>\n",
       "      <th>237515</th>\n",
       "      <td>West Bengal</td>\n",
       "      <td>2012</td>\n",
       "      <td>Social_Status</td>\n",
       "      <td>Widowed/Widower</td>\n",
       "      <td>Male</td>\n",
       "      <td>0-100+</td>\n",
       "      <td>233</td>\n",
       "    </tr>\n",
       "    <tr>\n",
       "      <th>237516</th>\n",
       "      <td>West Bengal</td>\n",
       "      <td>2012</td>\n",
       "      <td>Social_Status</td>\n",
       "      <td>Married</td>\n",
       "      <td>Male</td>\n",
       "      <td>0-100+</td>\n",
       "      <td>5451</td>\n",
       "    </tr>\n",
       "    <tr>\n",
       "      <th>237517</th>\n",
       "      <td>West Bengal</td>\n",
       "      <td>2012</td>\n",
       "      <td>Social_Status</td>\n",
       "      <td>Divorcee</td>\n",
       "      <td>Male</td>\n",
       "      <td>0-100+</td>\n",
       "      <td>189</td>\n",
       "    </tr>\n",
       "    <tr>\n",
       "      <th>237518</th>\n",
       "      <td>West Bengal</td>\n",
       "      <td>2012</td>\n",
       "      <td>Social_Status</td>\n",
       "      <td>Never Married</td>\n",
       "      <td>Male</td>\n",
       "      <td>0-100+</td>\n",
       "      <td>2658</td>\n",
       "    </tr>\n",
       "  </tbody>\n",
       "</table>\n",
       "</div>"
      ],
      "text/plain": [
       "              State  Year      Type_code             Type Gender Age_group  \\\n",
       "237514  West Bengal  2012  Social_Status        Seperated   Male    0-100+   \n",
       "237515  West Bengal  2012  Social_Status  Widowed/Widower   Male    0-100+   \n",
       "237516  West Bengal  2012  Social_Status          Married   Male    0-100+   \n",
       "237517  West Bengal  2012  Social_Status         Divorcee   Male    0-100+   \n",
       "237518  West Bengal  2012  Social_Status    Never Married   Male    0-100+   \n",
       "\n",
       "        Total  \n",
       "237514    149  \n",
       "237515    233  \n",
       "237516   5451  \n",
       "237517    189  \n",
       "237518   2658  "
      ]
     },
     "execution_count": 5,
     "metadata": {},
     "output_type": "execute_result"
    }
   ],
   "source": [
    "df.tail(5)"
   ]
  },
  {
   "cell_type": "code",
   "execution_count": 6,
   "metadata": {},
   "outputs": [
    {
     "data": {
      "text/html": [
       "<div>\n",
       "<style scoped>\n",
       "    .dataframe tbody tr th:only-of-type {\n",
       "        vertical-align: middle;\n",
       "    }\n",
       "\n",
       "    .dataframe tbody tr th {\n",
       "        vertical-align: top;\n",
       "    }\n",
       "\n",
       "    .dataframe thead th {\n",
       "        text-align: right;\n",
       "    }\n",
       "</style>\n",
       "<table border=\"1\" class=\"dataframe\">\n",
       "  <thead>\n",
       "    <tr style=\"text-align: right;\">\n",
       "      <th></th>\n",
       "      <th>State</th>\n",
       "      <th>Year</th>\n",
       "      <th>Type_code</th>\n",
       "      <th>Type</th>\n",
       "      <th>Gender</th>\n",
       "      <th>Age_group</th>\n",
       "      <th>Total</th>\n",
       "    </tr>\n",
       "  </thead>\n",
       "  <tbody>\n",
       "    <tr>\n",
       "      <th>152067</th>\n",
       "      <td>Meghalaya</td>\n",
       "      <td>2007</td>\n",
       "      <td>Causes</td>\n",
       "      <td>Insanity/Mental Illness</td>\n",
       "      <td>Female</td>\n",
       "      <td>0-14</td>\n",
       "      <td>0</td>\n",
       "    </tr>\n",
       "    <tr>\n",
       "      <th>2213</th>\n",
       "      <td>A &amp; N Islands</td>\n",
       "      <td>2004</td>\n",
       "      <td>Professional_Profile</td>\n",
       "      <td>Others (Please Specify)</td>\n",
       "      <td>Male</td>\n",
       "      <td>60+</td>\n",
       "      <td>0</td>\n",
       "    </tr>\n",
       "    <tr>\n",
       "      <th>3891</th>\n",
       "      <td>A &amp; N Islands</td>\n",
       "      <td>2007</td>\n",
       "      <td>Professional_Profile</td>\n",
       "      <td>Service (Private)</td>\n",
       "      <td>Male</td>\n",
       "      <td>60+</td>\n",
       "      <td>2</td>\n",
       "    </tr>\n",
       "    <tr>\n",
       "      <th>26461</th>\n",
       "      <td>Assam</td>\n",
       "      <td>2012</td>\n",
       "      <td>Causes</td>\n",
       "      <td>Fall in Social Reputation</td>\n",
       "      <td>Male</td>\n",
       "      <td>0-14</td>\n",
       "      <td>0</td>\n",
       "    </tr>\n",
       "    <tr>\n",
       "      <th>66235</th>\n",
       "      <td>Delhi (Ut)</td>\n",
       "      <td>2010</td>\n",
       "      <td>Professional_Profile</td>\n",
       "      <td>Student</td>\n",
       "      <td>Female</td>\n",
       "      <td>0-14</td>\n",
       "      <td>18</td>\n",
       "    </tr>\n",
       "  </tbody>\n",
       "</table>\n",
       "</div>"
      ],
      "text/plain": [
       "                State  Year             Type_code                       Type  \\\n",
       "152067      Meghalaya  2007                Causes    Insanity/Mental Illness   \n",
       "2213    A & N Islands  2004  Professional_Profile    Others (Please Specify)   \n",
       "3891    A & N Islands  2007  Professional_Profile          Service (Private)   \n",
       "26461           Assam  2012                Causes  Fall in Social Reputation   \n",
       "66235      Delhi (Ut)  2010  Professional_Profile                    Student   \n",
       "\n",
       "        Gender Age_group  Total  \n",
       "152067  Female      0-14      0  \n",
       "2213      Male       60+      0  \n",
       "3891      Male       60+      2  \n",
       "26461     Male      0-14      0  \n",
       "66235   Female      0-14     18  "
      ]
     },
     "execution_count": 6,
     "metadata": {},
     "output_type": "execute_result"
    }
   ],
   "source": [
    "df.sample(5)"
   ]
  },
  {
   "cell_type": "code",
   "execution_count": 7,
   "metadata": {},
   "outputs": [
    {
     "data": {
      "text/plain": [
       "Index(['State', 'Year', 'Type_code', 'Type', 'Gender', 'Age_group', 'Total'], dtype='object')"
      ]
     },
     "execution_count": 7,
     "metadata": {},
     "output_type": "execute_result"
    }
   ],
   "source": [
    "df.columns"
   ]
  },
  {
   "cell_type": "code",
   "execution_count": 8,
   "metadata": {},
   "outputs": [
    {
     "data": {
      "text/plain": [
       "State        object\n",
       "Year          int64\n",
       "Type_code    object\n",
       "Type         object\n",
       "Gender       object\n",
       "Age_group    object\n",
       "Total         int64\n",
       "dtype: object"
      ]
     },
     "execution_count": 8,
     "metadata": {},
     "output_type": "execute_result"
    }
   ],
   "source": [
    "df.dtypes"
   ]
  },
  {
   "cell_type": "code",
   "execution_count": 9,
   "metadata": {},
   "outputs": [
    {
     "data": {
      "text/plain": [
       "2"
      ]
     },
     "execution_count": 9,
     "metadata": {},
     "output_type": "execute_result"
    }
   ],
   "source": [
    "df.ndim"
   ]
  },
  {
   "cell_type": "code",
   "execution_count": 10,
   "metadata": {},
   "outputs": [
    {
     "name": "stdout",
     "output_type": "stream",
     "text": [
      "<class 'pandas.core.frame.DataFrame'>\n",
      "RangeIndex: 237519 entries, 0 to 237518\n",
      "Data columns (total 7 columns):\n",
      " #   Column     Non-Null Count   Dtype \n",
      "---  ------     --------------   ----- \n",
      " 0   State      237519 non-null  object\n",
      " 1   Year       237519 non-null  int64 \n",
      " 2   Type_code  237519 non-null  object\n",
      " 3   Type       237519 non-null  object\n",
      " 4   Gender     237519 non-null  object\n",
      " 5   Age_group  237519 non-null  object\n",
      " 6   Total      237519 non-null  int64 \n",
      "dtypes: int64(2), object(5)\n",
      "memory usage: 8.2+ MB\n"
     ]
    }
   ],
   "source": [
    "df.info()"
   ]
  },
  {
   "cell_type": "code",
   "execution_count": 11,
   "metadata": {},
   "outputs": [
    {
     "data": {
      "text/plain": [
       "(237519, 7)"
      ]
     },
     "execution_count": 11,
     "metadata": {},
     "output_type": "execute_result"
    }
   ],
   "source": [
    "df.shape"
   ]
  },
  {
   "cell_type": "code",
   "execution_count": 12,
   "metadata": {},
   "outputs": [
    {
     "data": {
      "text/html": [
       "<div>\n",
       "<style scoped>\n",
       "    .dataframe tbody tr th:only-of-type {\n",
       "        vertical-align: middle;\n",
       "    }\n",
       "\n",
       "    .dataframe tbody tr th {\n",
       "        vertical-align: top;\n",
       "    }\n",
       "\n",
       "    .dataframe thead th {\n",
       "        text-align: right;\n",
       "    }\n",
       "</style>\n",
       "<table border=\"1\" class=\"dataframe\">\n",
       "  <thead>\n",
       "    <tr style=\"text-align: right;\">\n",
       "      <th></th>\n",
       "      <th>Year</th>\n",
       "      <th>Total</th>\n",
       "    </tr>\n",
       "  </thead>\n",
       "  <tbody>\n",
       "    <tr>\n",
       "      <th>count</th>\n",
       "      <td>237519.000000</td>\n",
       "      <td>237519.000000</td>\n",
       "    </tr>\n",
       "    <tr>\n",
       "      <th>mean</th>\n",
       "      <td>2006.500448</td>\n",
       "      <td>55.034477</td>\n",
       "    </tr>\n",
       "    <tr>\n",
       "      <th>std</th>\n",
       "      <td>3.452240</td>\n",
       "      <td>792.749038</td>\n",
       "    </tr>\n",
       "    <tr>\n",
       "      <th>min</th>\n",
       "      <td>2001.000000</td>\n",
       "      <td>0.000000</td>\n",
       "    </tr>\n",
       "    <tr>\n",
       "      <th>25%</th>\n",
       "      <td>2004.000000</td>\n",
       "      <td>0.000000</td>\n",
       "    </tr>\n",
       "    <tr>\n",
       "      <th>50%</th>\n",
       "      <td>2007.000000</td>\n",
       "      <td>0.000000</td>\n",
       "    </tr>\n",
       "    <tr>\n",
       "      <th>75%</th>\n",
       "      <td>2010.000000</td>\n",
       "      <td>6.000000</td>\n",
       "    </tr>\n",
       "    <tr>\n",
       "      <th>max</th>\n",
       "      <td>2012.000000</td>\n",
       "      <td>63343.000000</td>\n",
       "    </tr>\n",
       "  </tbody>\n",
       "</table>\n",
       "</div>"
      ],
      "text/plain": [
       "                Year          Total\n",
       "count  237519.000000  237519.000000\n",
       "mean     2006.500448      55.034477\n",
       "std         3.452240     792.749038\n",
       "min      2001.000000       0.000000\n",
       "25%      2004.000000       0.000000\n",
       "50%      2007.000000       0.000000\n",
       "75%      2010.000000       6.000000\n",
       "max      2012.000000   63343.000000"
      ]
     },
     "execution_count": 12,
     "metadata": {},
     "output_type": "execute_result"
    }
   ],
   "source": [
    "df.describe()"
   ]
  },
  {
   "cell_type": "code",
   "execution_count": 13,
   "metadata": {},
   "outputs": [
    {
     "data": {
      "text/plain": [
       "State        237519\n",
       "Year         237519\n",
       "Type_code    237519\n",
       "Type         237519\n",
       "Gender       237519\n",
       "Age_group    237519\n",
       "Total        237519\n",
       "dtype: int64"
      ]
     },
     "execution_count": 13,
     "metadata": {},
     "output_type": "execute_result"
    }
   ],
   "source": [
    "df.isna().count()"
   ]
  },
  {
   "cell_type": "code",
   "execution_count": 14,
   "metadata": {},
   "outputs": [
    {
     "data": {
      "text/plain": [
       "State        0\n",
       "Year         0\n",
       "Type_code    0\n",
       "Type         0\n",
       "Gender       0\n",
       "Age_group    0\n",
       "Total        0\n",
       "dtype: int64"
      ]
     },
     "execution_count": 14,
     "metadata": {},
     "output_type": "execute_result"
    }
   ],
   "source": [
    "df[df.isnull()].count()"
   ]
  },
  {
   "cell_type": "code",
   "execution_count": 15,
   "metadata": {},
   "outputs": [
    {
     "data": {
      "text/plain": [
       "13071734"
      ]
     },
     "execution_count": 15,
     "metadata": {},
     "output_type": "execute_result"
    }
   ],
   "source": [
    "df['Total'].sum()"
   ]
  },
  {
   "cell_type": "code",
   "execution_count": 16,
   "metadata": {},
   "outputs": [
    {
     "data": {
      "text/plain": [
       "{'A & N Islands': Int64Index([   0,    1,    2,    3,    4,    5,    6,    7,    8,    9,\n",
       "             ...\n",
       "             6702, 6703, 6704, 6705, 6706, 6707, 6708, 6709, 6710, 6711],\n",
       "            dtype='int64', length=6712),\n",
       " 'Andhra Pradesh': Int64Index([ 6712,  6713,  6714,  6715,  6716,  6717,  6718,  6719,  6720,\n",
       "              6721,\n",
       "             ...\n",
       "             13493, 13494, 13495, 13496, 13497, 13498, 13499, 13500, 13501,\n",
       "             13502],\n",
       "            dtype='int64', length=6791),\n",
       " 'Arunachal Pradesh': Int64Index([13503, 13504, 13505, 13506, 13507, 13508, 13509, 13510, 13511,\n",
       "             13512,\n",
       "             ...\n",
       "             20200, 20201, 20202, 20203, 20204, 20205, 20206, 20207, 20208,\n",
       "             20209],\n",
       "            dtype='int64', length=6707),\n",
       " 'Assam': Int64Index([20210, 20211, 20212, 20213, 20214, 20215, 20216, 20217, 20218,\n",
       "             20219,\n",
       "             ...\n",
       "             26986, 26987, 26988, 26989, 26990, 26991, 26992, 26993, 26994,\n",
       "             26995],\n",
       "            dtype='int64', length=6786),\n",
       " 'Bihar': Int64Index([26996, 26997, 26998, 26999, 27000, 27001, 27002, 27003, 27004,\n",
       "             27005,\n",
       "             ...\n",
       "             33776, 33777, 33778, 33779, 33780, 33781, 33782, 33783, 33784,\n",
       "             33785],\n",
       "            dtype='int64', length=6790),\n",
       " 'Chandigarh': Int64Index([33786, 33787, 33788, 33789, 33790, 33791, 33792, 33793, 33794,\n",
       "             33795,\n",
       "             ...\n",
       "             40493, 40494, 40495, 40496, 40497, 40498, 40499, 40500, 40501,\n",
       "             40502],\n",
       "            dtype='int64', length=6717),\n",
       " 'Chhattisgarh': Int64Index([40503, 40504, 40505, 40506, 40507, 40508, 40509, 40510, 40511,\n",
       "             40512,\n",
       "             ...\n",
       "             47283, 47284, 47285, 47286, 47287, 47288, 47289, 47290, 47291,\n",
       "             47292],\n",
       "            dtype='int64', length=6790),\n",
       " 'D & N Haveli': Int64Index([47293, 47294, 47295, 47296, 47297, 47298, 47299, 47300, 47301,\n",
       "             47302,\n",
       "             ...\n",
       "             53987, 53988, 53989, 53990, 53991, 53992, 53993, 53994, 53995,\n",
       "             53996],\n",
       "            dtype='int64', length=6704),\n",
       " 'Daman & Diu': Int64Index([53997, 53998, 53999, 54000, 54001, 54002, 54003, 54004, 54005,\n",
       "             54006,\n",
       "             ...\n",
       "             60697, 60698, 60699, 60700, 60701, 60702, 60703, 60704, 60705,\n",
       "             60706],\n",
       "            dtype='int64', length=6710),\n",
       " 'Delhi (Ut)': Int64Index([60707, 60708, 60709, 60710, 60711, 60712, 60713, 60714, 60715,\n",
       "             60716,\n",
       "             ...\n",
       "             67479, 67480, 67481, 67482, 67483, 67484, 67485, 67486, 67487,\n",
       "             67488],\n",
       "            dtype='int64', length=6782),\n",
       " 'Goa': Int64Index([67489, 67490, 67491, 67492, 67493, 67494, 67495, 67496, 67497,\n",
       "             67498,\n",
       "             ...\n",
       "             74238, 74239, 74240, 74241, 74242, 74243, 74244, 74245, 74246,\n",
       "             74247],\n",
       "            dtype='int64', length=6759),\n",
       " 'Gujarat': Int64Index([74248, 74249, 74250, 74251, 74252, 74253, 74254, 74255, 74256,\n",
       "             74257,\n",
       "             ...\n",
       "             81024, 81025, 81026, 81027, 81028, 81029, 81030, 81031, 81032,\n",
       "             81033],\n",
       "            dtype='int64', length=6786),\n",
       " 'Haryana': Int64Index([81034, 81035, 81036, 81037, 81038, 81039, 81040, 81041, 81042,\n",
       "             81043,\n",
       "             ...\n",
       "             87814, 87815, 87816, 87817, 87818, 87819, 87820, 87821, 87822,\n",
       "             87823],\n",
       "            dtype='int64', length=6790),\n",
       " 'Himachal Pradesh': Int64Index([87824, 87825, 87826, 87827, 87828, 87829, 87830, 87831, 87832,\n",
       "             87833,\n",
       "             ...\n",
       "             94588, 94589, 94590, 94591, 94592, 94593, 94594, 94595, 94596,\n",
       "             94597],\n",
       "            dtype='int64', length=6774),\n",
       " 'Jammu & Kashmir': Int64Index([ 94598,  94599,  94600,  94601,  94602,  94603,  94604,  94605,\n",
       "              94606,  94607,\n",
       "             ...\n",
       "             101349, 101350, 101351, 101352, 101353, 101354, 101355, 101356,\n",
       "             101357, 101358],\n",
       "            dtype='int64', length=6761),\n",
       " 'Jharkhand': Int64Index([101359, 101360, 101361, 101362, 101363, 101364, 101365, 101366,\n",
       "             101367, 101368,\n",
       "             ...\n",
       "             108134, 108135, 108136, 108137, 108138, 108139, 108140, 108141,\n",
       "             108142, 108143],\n",
       "            dtype='int64', length=6785),\n",
       " 'Karnataka': Int64Index([108144, 108145, 108146, 108147, 108148, 108149, 108150, 108151,\n",
       "             108152, 108153,\n",
       "             ...\n",
       "             114926, 114927, 114928, 114929, 114930, 114931, 114932, 114933,\n",
       "             114934, 114935],\n",
       "            dtype='int64', length=6792),\n",
       " 'Kerala': Int64Index([114936, 114937, 114938, 114939, 114940, 114941, 114942, 114943,\n",
       "             114944, 114945,\n",
       "             ...\n",
       "             121714, 121715, 121716, 121717, 121718, 121719, 121720, 121721,\n",
       "             121722, 121723],\n",
       "            dtype='int64', length=6788),\n",
       " 'Lakshadweep': Int64Index([121724, 121725, 121726, 121727, 121728, 121729, 121730, 121731,\n",
       "             121732, 121733,\n",
       "             ...\n",
       "             128388, 128389, 128390, 128391, 128392, 128393, 128394, 128395,\n",
       "             128396, 128397],\n",
       "            dtype='int64', length=6674),\n",
       " 'Madhya Pradesh': Int64Index([128398, 128399, 128400, 128401, 128402, 128403, 128404, 128405,\n",
       "             128406, 128407,\n",
       "             ...\n",
       "             135180, 135181, 135182, 135183, 135184, 135185, 135186, 135187,\n",
       "             135188, 135189],\n",
       "            dtype='int64', length=6792),\n",
       " 'Maharashtra': Int64Index([135190, 135191, 135192, 135193, 135194, 135195, 135196, 135197,\n",
       "             135198, 135199,\n",
       "             ...\n",
       "             141972, 141973, 141974, 141975, 141976, 141977, 141978, 141979,\n",
       "             141980, 141981],\n",
       "            dtype='int64', length=6792),\n",
       " 'Manipur': Int64Index([141982, 141983, 141984, 141985, 141986, 141987, 141988, 141989,\n",
       "             141990, 141991,\n",
       "             ...\n",
       "             148672, 148673, 148674, 148675, 148676, 148677, 148678, 148679,\n",
       "             148680, 148681],\n",
       "            dtype='int64', length=6700),\n",
       " 'Meghalaya': Int64Index([148682, 148683, 148684, 148685, 148686, 148687, 148688, 148689,\n",
       "             148690, 148691,\n",
       "             ...\n",
       "             155405, 155406, 155407, 155408, 155409, 155410, 155411, 155412,\n",
       "             155413, 155414],\n",
       "            dtype='int64', length=6733),\n",
       " 'Mizoram': Int64Index([155415, 155416, 155417, 155418, 155419, 155420, 155421, 155422,\n",
       "             155423, 155424,\n",
       "             ...\n",
       "             162142, 162143, 162144, 162145, 162146, 162147, 162148, 162149,\n",
       "             162150, 162151],\n",
       "            dtype='int64', length=6737),\n",
       " 'Nagaland': Int64Index([162152, 162153, 162154, 162155, 162156, 162157, 162158, 162159,\n",
       "             162160, 162161,\n",
       "             ...\n",
       "             168847, 168848, 168849, 168850, 168851, 168852, 168853, 168854,\n",
       "             168855, 168856],\n",
       "            dtype='int64', length=6705),\n",
       " 'Odisha': Int64Index([168857, 168858, 168859, 168860, 168861, 168862, 168863, 168864,\n",
       "             168865, 168866,\n",
       "             ...\n",
       "             175638, 175639, 175640, 175641, 175642, 175643, 175644, 175645,\n",
       "             175646, 175647],\n",
       "            dtype='int64', length=6791),\n",
       " 'Puducherry': Int64Index([175648, 175649, 175650, 175651, 175652, 175653, 175654, 175655,\n",
       "             175656, 175657,\n",
       "             ...\n",
       "             182368, 182369, 182370, 182371, 182372, 182373, 182374, 182375,\n",
       "             182376, 182377],\n",
       "            dtype='int64', length=6730),\n",
       " 'Punjab': Int64Index([182378, 182379, 182380, 182381, 182382, 182383, 182384, 182385,\n",
       "             182386, 182387,\n",
       "             ...\n",
       "             189147, 189148, 189149, 189150, 189151, 189152, 189153, 189154,\n",
       "             189155, 189156],\n",
       "            dtype='int64', length=6779),\n",
       " 'Rajasthan': Int64Index([189157, 189158, 189159, 189160, 189161, 189162, 189163, 189164,\n",
       "             189165, 189166,\n",
       "             ...\n",
       "             195938, 195939, 195940, 195941, 195942, 195943, 195944, 195945,\n",
       "             195946, 195947],\n",
       "            dtype='int64', length=6791),\n",
       " 'Sikkim': Int64Index([195948, 195949, 195950, 195951, 195952, 195953, 195954, 195955,\n",
       "             195956, 195957,\n",
       "             ...\n",
       "             202680, 202681, 202682, 202683, 202684, 202685, 202686, 202687,\n",
       "             202688, 202689],\n",
       "            dtype='int64', length=6742),\n",
       " 'Tamil Nadu': Int64Index([202690, 202691, 202692, 202693, 202694, 202695, 202696, 202697,\n",
       "             202698, 202699,\n",
       "             ...\n",
       "             209466, 209467, 209468, 209469, 209470, 209471, 209472, 209473,\n",
       "             209474, 209475],\n",
       "            dtype='int64', length=6786),\n",
       " 'Total (All India)': Int64Index([209476, 209477, 209478, 209479, 209480, 209481, 209482, 209483,\n",
       "             209484, 209485,\n",
       "             ...\n",
       "             209778, 209779, 209780, 209781, 209782, 209783, 209784, 209785,\n",
       "             209786, 209787],\n",
       "            dtype='int64', length=312),\n",
       " 'Total (States)': Int64Index([209788, 209789, 209790, 209791, 209792, 209793, 209794, 209795,\n",
       "             209796, 209797,\n",
       "             ...\n",
       "             210090, 210091, 210092, 210093, 210094, 210095, 210096, 210097,\n",
       "             210098, 210099],\n",
       "            dtype='int64', length=312),\n",
       " 'Total (Uts)': Int64Index([210100, 210101, 210102, 210103, 210104, 210105, 210106, 210107,\n",
       "             210108, 210109,\n",
       "             ...\n",
       "             210402, 210403, 210404, 210405, 210406, 210407, 210408, 210409,\n",
       "             210410, 210411],\n",
       "            dtype='int64', length=312),\n",
       " 'Tripura': Int64Index([210412, 210413, 210414, 210415, 210416, 210417, 210418, 210419,\n",
       "             210420, 210421,\n",
       "             ...\n",
       "             217184, 217185, 217186, 217187, 217188, 217189, 217190, 217191,\n",
       "             217192, 217193],\n",
       "            dtype='int64', length=6782),\n",
       " 'Uttar Pradesh': Int64Index([217194, 217195, 217196, 217197, 217198, 217199, 217200, 217201,\n",
       "             217202, 217203,\n",
       "             ...\n",
       "             223971, 223972, 223973, 223974, 223975, 223976, 223977, 223978,\n",
       "             223979, 223980],\n",
       "            dtype='int64', length=6787),\n",
       " 'Uttarakhand': Int64Index([223981, 223982, 223983, 223984, 223985, 223986, 223987, 223988,\n",
       "             223989, 223990,\n",
       "             ...\n",
       "             230729, 230730, 230731, 230732, 230733, 230734, 230735, 230736,\n",
       "             230737, 230738],\n",
       "            dtype='int64', length=6758),\n",
       " 'West Bengal': Int64Index([230739, 230740, 230741, 230742, 230743, 230744, 230745, 230746,\n",
       "             230747, 230748,\n",
       "             ...\n",
       "             237509, 237510, 237511, 237512, 237513, 237514, 237515, 237516,\n",
       "             237517, 237518],\n",
       "            dtype='int64', length=6780)}"
      ]
     },
     "execution_count": 16,
     "metadata": {},
     "output_type": "execute_result"
    }
   ],
   "source": [
    "df.groupby('State').groups"
   ]
  },
  {
   "cell_type": "code",
   "execution_count": 17,
   "metadata": {},
   "outputs": [
    {
     "data": {
      "text/html": [
       "<div>\n",
       "<style scoped>\n",
       "    .dataframe tbody tr th:only-of-type {\n",
       "        vertical-align: middle;\n",
       "    }\n",
       "\n",
       "    .dataframe tbody tr th {\n",
       "        vertical-align: top;\n",
       "    }\n",
       "\n",
       "    .dataframe thead th {\n",
       "        text-align: right;\n",
       "    }\n",
       "</style>\n",
       "<table border=\"1\" class=\"dataframe\">\n",
       "  <thead>\n",
       "    <tr style=\"text-align: right;\">\n",
       "      <th></th>\n",
       "      <th>State</th>\n",
       "      <th>Total</th>\n",
       "    </tr>\n",
       "  </thead>\n",
       "  <tbody>\n",
       "    <tr>\n",
       "      <th>209783</th>\n",
       "      <td>Total (All India)</td>\n",
       "      <td>63343</td>\n",
       "    </tr>\n",
       "  </tbody>\n",
       "</table>\n",
       "</div>"
      ],
      "text/plain": [
       "                    State  Total\n",
       "209783  Total (All India)  63343"
      ]
     },
     "execution_count": 17,
     "metadata": {},
     "output_type": "execute_result"
    }
   ],
   "source": [
    "df[df['Total']==df['Total'].max()][['State','Total']]"
   ]
  },
  {
   "cell_type": "code",
   "execution_count": 18,
   "metadata": {},
   "outputs": [
    {
     "data": {
      "text/plain": [
       "{'Female': Int64Index([     0,      1,      2,      3,      4,      5,      6,      7,\n",
       "                  8,      9,\n",
       "             ...\n",
       "             237488, 237489, 237490, 237491, 237492, 237493, 237494, 237495,\n",
       "             237496, 237497],\n",
       "            dtype='int64', length=71906),\n",
       " 'Male': Int64Index([    26,     27,     28,     29,     30,     31,     33,     34,\n",
       "                 35,     36,\n",
       "             ...\n",
       "             237499, 237500, 237501, 237502, 237503, 237504, 237505, 237506,\n",
       "             237507, 237508],\n",
       "            dtype='int64', length=63575)}"
      ]
     },
     "execution_count": 18,
     "metadata": {},
     "output_type": "execute_result"
    }
   ],
   "source": [
    "df1=df[df['Total']==df['Total'].min()][['State','Year','Gender','Age_group','Total']]\n",
    "df1.groupby('Gender').groups"
   ]
  },
  {
   "cell_type": "code",
   "execution_count": 19,
   "metadata": {},
   "outputs": [
    {
     "data": {
      "text/plain": [
       "63575"
      ]
     },
     "execution_count": 19,
     "metadata": {},
     "output_type": "execute_result"
    }
   ],
   "source": [
    "df1[df1['Gender']== 'Male'].count()['Total']"
   ]
  },
  {
   "cell_type": "code",
   "execution_count": 20,
   "metadata": {},
   "outputs": [
    {
     "data": {
      "text/plain": [
       "71906"
      ]
     },
     "execution_count": 20,
     "metadata": {},
     "output_type": "execute_result"
    }
   ],
   "source": [
    "df1[df1['Gender']== 'Female'].count()['Total']"
   ]
  },
  {
   "cell_type": "code",
   "execution_count": 21,
   "metadata": {},
   "outputs": [
    {
     "data": {
      "text/plain": [
       "Gender       Male\n",
       "Age_group     60+\n",
       "dtype: object"
      ]
     },
     "execution_count": 21,
     "metadata": {},
     "output_type": "execute_result"
    }
   ],
   "source": [
    "df1=df.groupby(by='Total')\n",
    "df1=df1.max()[['Gender','Age_group']]\n",
    "df1.max()\n"
   ]
  },
  {
   "cell_type": "code",
   "execution_count": 22,
   "metadata": {},
   "outputs": [
    {
     "data": {
      "text/html": [
       "<div>\n",
       "<style scoped>\n",
       "    .dataframe tbody tr th:only-of-type {\n",
       "        vertical-align: middle;\n",
       "    }\n",
       "\n",
       "    .dataframe tbody tr th {\n",
       "        vertical-align: top;\n",
       "    }\n",
       "\n",
       "    .dataframe thead th {\n",
       "        text-align: right;\n",
       "    }\n",
       "</style>\n",
       "<table border=\"1\" class=\"dataframe\">\n",
       "  <thead>\n",
       "    <tr style=\"text-align: right;\">\n",
       "      <th></th>\n",
       "      <th>Gender</th>\n",
       "    </tr>\n",
       "    <tr>\n",
       "      <th>Age_group</th>\n",
       "      <th></th>\n",
       "    </tr>\n",
       "  </thead>\n",
       "  <tbody>\n",
       "    <tr>\n",
       "      <th>0-100+</th>\n",
       "      <td>1075</td>\n",
       "    </tr>\n",
       "    <tr>\n",
       "      <th>15-29</th>\n",
       "      <td>137</td>\n",
       "    </tr>\n",
       "    <tr>\n",
       "      <th>30-44</th>\n",
       "      <td>287</td>\n",
       "    </tr>\n",
       "    <tr>\n",
       "      <th>45-59</th>\n",
       "      <td>305</td>\n",
       "    </tr>\n",
       "    <tr>\n",
       "      <th>60+</th>\n",
       "      <td>376</td>\n",
       "    </tr>\n",
       "  </tbody>\n",
       "</table>\n",
       "</div>"
      ],
      "text/plain": [
       "           Gender\n",
       "Age_group        \n",
       "0-100+       1075\n",
       "15-29         137\n",
       "30-44         287\n",
       "45-59         305\n",
       "60+           376"
      ]
     },
     "execution_count": 22,
     "metadata": {},
     "output_type": "execute_result"
    }
   ],
   "source": [
    "df1.groupby(by='Age_group').count()"
   ]
  },
  {
   "cell_type": "code",
   "execution_count": 23,
   "metadata": {},
   "outputs": [
    {
     "data": {
      "text/plain": [
       "Gender    1075\n",
       "dtype: int64"
      ]
     },
     "execution_count": 23,
     "metadata": {},
     "output_type": "execute_result"
    }
   ],
   "source": [
    "df1.groupby(by='Age_group').count().max()"
   ]
  },
  {
   "cell_type": "code",
   "execution_count": 24,
   "metadata": {},
   "outputs": [
    {
     "data": {
      "text/plain": [
       "State        A & N Islands\n",
       "Year                  2002\n",
       "Type_code    Social_Status\n",
       "Gender              Female\n",
       "Age_group             0-14\n",
       "Total                    0\n",
       "dtype: object"
      ]
     },
     "execution_count": 24,
     "metadata": {},
     "output_type": "execute_result"
    }
   ],
   "source": [
    "df1=df.groupby('Type').min()\n",
    "df1.groupby('Age_group').min()\n",
    "df1.max()"
   ]
  },
  {
   "cell_type": "code",
   "execution_count": 25,
   "metadata": {},
   "outputs": [
    {
     "data": {
      "text/html": [
       "<div>\n",
       "<style scoped>\n",
       "    .dataframe tbody tr th:only-of-type {\n",
       "        vertical-align: middle;\n",
       "    }\n",
       "\n",
       "    .dataframe tbody tr th {\n",
       "        vertical-align: top;\n",
       "    }\n",
       "\n",
       "    .dataframe thead th {\n",
       "        text-align: right;\n",
       "    }\n",
       "</style>\n",
       "<table border=\"1\" class=\"dataframe\">\n",
       "  <thead>\n",
       "    <tr style=\"text-align: right;\">\n",
       "      <th></th>\n",
       "      <th>State</th>\n",
       "      <th>Year</th>\n",
       "      <th>Type_code</th>\n",
       "      <th>Gender</th>\n",
       "      <th>Total</th>\n",
       "    </tr>\n",
       "    <tr>\n",
       "      <th>Age_group</th>\n",
       "      <th></th>\n",
       "      <th></th>\n",
       "      <th></th>\n",
       "      <th></th>\n",
       "      <th></th>\n",
       "    </tr>\n",
       "  </thead>\n",
       "  <tbody>\n",
       "    <tr>\n",
       "      <th>0-100+</th>\n",
       "      <td>13</td>\n",
       "      <td>13</td>\n",
       "      <td>13</td>\n",
       "      <td>13</td>\n",
       "      <td>13</td>\n",
       "    </tr>\n",
       "    <tr>\n",
       "      <th>0-14</th>\n",
       "      <td>56</td>\n",
       "      <td>56</td>\n",
       "      <td>56</td>\n",
       "      <td>56</td>\n",
       "      <td>56</td>\n",
       "    </tr>\n",
       "  </tbody>\n",
       "</table>\n",
       "</div>"
      ],
      "text/plain": [
       "           State  Year  Type_code  Gender  Total\n",
       "Age_group                                       \n",
       "0-100+        13    13         13      13     13\n",
       "0-14          56    56         56      56     56"
      ]
     },
     "execution_count": 25,
     "metadata": {},
     "output_type": "execute_result"
    }
   ],
   "source": [
    "(df1.groupby('Age_group')).count()"
   ]
  },
  {
   "cell_type": "code",
   "execution_count": 26,
   "metadata": {},
   "outputs": [
    {
     "data": {
      "text/plain": [
       "State        A & N Islands\n",
       "Year                  2002\n",
       "Type_code    Social_Status\n",
       "Gender              Female\n",
       "Age_group             0-14\n",
       "Total                    0\n",
       "dtype: object"
      ]
     },
     "execution_count": 26,
     "metadata": {},
     "output_type": "execute_result"
    }
   ],
   "source": [
    "df1=df.groupby('Type').min()\n",
    "df1.groupby('Age_group').min()\n",
    "df1.max()"
   ]
  },
  {
   "cell_type": "code",
   "execution_count": 27,
   "metadata": {},
   "outputs": [
    {
     "data": {
      "text/html": [
       "<div>\n",
       "<style scoped>\n",
       "    .dataframe tbody tr th:only-of-type {\n",
       "        vertical-align: middle;\n",
       "    }\n",
       "\n",
       "    .dataframe tbody tr th {\n",
       "        vertical-align: top;\n",
       "    }\n",
       "\n",
       "    .dataframe thead th {\n",
       "        text-align: right;\n",
       "    }\n",
       "</style>\n",
       "<table border=\"1\" class=\"dataframe\">\n",
       "  <thead>\n",
       "    <tr style=\"text-align: right;\">\n",
       "      <th></th>\n",
       "      <th>State</th>\n",
       "      <th>Year</th>\n",
       "      <th>Type_code</th>\n",
       "      <th>Gender</th>\n",
       "      <th>Total</th>\n",
       "    </tr>\n",
       "    <tr>\n",
       "      <th>Age_group</th>\n",
       "      <th></th>\n",
       "      <th></th>\n",
       "      <th></th>\n",
       "      <th></th>\n",
       "      <th></th>\n",
       "    </tr>\n",
       "  </thead>\n",
       "  <tbody>\n",
       "    <tr>\n",
       "      <th>0-100+</th>\n",
       "      <td>West Bengal</td>\n",
       "      <td>2012</td>\n",
       "      <td>Social_Status</td>\n",
       "      <td>Male</td>\n",
       "      <td>63343</td>\n",
       "    </tr>\n",
       "    <tr>\n",
       "      <th>60+</th>\n",
       "      <td>West Bengal</td>\n",
       "      <td>2012</td>\n",
       "      <td>Professional_Profile</td>\n",
       "      <td>Male</td>\n",
       "      <td>2263</td>\n",
       "    </tr>\n",
       "  </tbody>\n",
       "</table>\n",
       "</div>"
      ],
      "text/plain": [
       "                 State  Year             Type_code Gender  Total\n",
       "Age_group                                                       \n",
       "0-100+     West Bengal  2012         Social_Status   Male  63343\n",
       "60+        West Bengal  2012  Professional_Profile   Male   2263"
      ]
     },
     "execution_count": 27,
     "metadata": {},
     "output_type": "execute_result"
    }
   ],
   "source": [
    "df1=df.groupby('Type').max()\n",
    "df1.groupby('Age_group').max()"
   ]
  },
  {
   "cell_type": "code",
   "execution_count": 28,
   "metadata": {},
   "outputs": [
    {
     "data": {
      "text/html": [
       "<div>\n",
       "<style scoped>\n",
       "    .dataframe tbody tr th:only-of-type {\n",
       "        vertical-align: middle;\n",
       "    }\n",
       "\n",
       "    .dataframe tbody tr th {\n",
       "        vertical-align: top;\n",
       "    }\n",
       "\n",
       "    .dataframe thead th {\n",
       "        text-align: right;\n",
       "    }\n",
       "</style>\n",
       "<table border=\"1\" class=\"dataframe\">\n",
       "  <thead>\n",
       "    <tr style=\"text-align: right;\">\n",
       "      <th></th>\n",
       "      <th>State</th>\n",
       "      <th>Type_code</th>\n",
       "      <th>Type</th>\n",
       "      <th>Gender</th>\n",
       "      <th>Total</th>\n",
       "    </tr>\n",
       "    <tr>\n",
       "      <th>Age_group</th>\n",
       "      <th></th>\n",
       "      <th></th>\n",
       "      <th></th>\n",
       "      <th></th>\n",
       "      <th></th>\n",
       "    </tr>\n",
       "  </thead>\n",
       "  <tbody>\n",
       "    <tr>\n",
       "      <th>60+</th>\n",
       "      <td>West Bengal</td>\n",
       "      <td>Social_Status</td>\n",
       "      <td>Widowed/Widower</td>\n",
       "      <td>Male</td>\n",
       "      <td>46842</td>\n",
       "    </tr>\n",
       "  </tbody>\n",
       "</table>\n",
       "</div>"
      ],
      "text/plain": [
       "                 State      Type_code             Type Gender  Total\n",
       "Age_group                                                           \n",
       "60+        West Bengal  Social_Status  Widowed/Widower   Male  46842"
      ]
     },
     "execution_count": 28,
     "metadata": {},
     "output_type": "execute_result"
    }
   ],
   "source": [
    "df1=df.groupby('Year').max()\n",
    "df1.groupby('Age_group').min()"
   ]
  },
  {
   "cell_type": "code",
   "execution_count": 29,
   "metadata": {},
   "outputs": [
    {
     "data": {
      "text/plain": [
       "State        4560\n",
       "Year         4560\n",
       "Type_code    4560\n",
       "Type         4560\n",
       "Gender       4560\n",
       "Age_group    4560\n",
       "Total        4560\n",
       "dtype: int64"
      ]
     },
     "execution_count": 29,
     "metadata": {},
     "output_type": "execute_result"
    }
   ],
   "source": [
    "df[df['Type_code']== 'Social_Status'].count()"
   ]
  },
  {
   "cell_type": "code",
   "execution_count": 30,
   "metadata": {},
   "outputs": [
    {
     "data": {
      "text/plain": [
       "1925"
      ]
     },
     "execution_count": 30,
     "metadata": {},
     "output_type": "execute_result"
    }
   ],
   "source": [
    "l1=list(df[df['Type']==df['Type'].min()].groupby('Gender').groups['Female'])\n",
    "len(l1)"
   ]
  },
  {
   "cell_type": "code",
   "execution_count": 31,
   "metadata": {},
   "outputs": [
    {
     "data": {
      "text/plain": [
       "Year         2012\n",
       "Gender       Male\n",
       "Age_group     60+\n",
       "Total         252\n",
       "dtype: object"
      ]
     },
     "execution_count": 31,
     "metadata": {},
     "output_type": "execute_result"
    }
   ],
   "source": [
    "df[df['Type']=='Unemployment'].max()[['Year','Gender','Age_group','Total']]"
   ]
  },
  {
   "cell_type": "code",
   "execution_count": 32,
   "metadata": {},
   "outputs": [
    {
     "data": {
      "text/plain": [
       "State        2100\n",
       "Year         2100\n",
       "Type_code    2100\n",
       "Type         2100\n",
       "Gender       2100\n",
       "Age_group    2100\n",
       "Total        2100\n",
       "dtype: int64"
      ]
     },
     "execution_count": 32,
     "metadata": {},
     "output_type": "execute_result"
    }
   ],
   "source": [
    "df1=df[df['Type']=='Unemployment']\n",
    "df1[df1['Gender']=='Male'].count()"
   ]
  },
  {
   "cell_type": "code",
   "execution_count": 33,
   "metadata": {},
   "outputs": [
    {
     "data": {
      "text/html": [
       "<div>\n",
       "<style scoped>\n",
       "    .dataframe tbody tr th:only-of-type {\n",
       "        vertical-align: middle;\n",
       "    }\n",
       "\n",
       "    .dataframe tbody tr th {\n",
       "        vertical-align: top;\n",
       "    }\n",
       "\n",
       "    .dataframe thead th {\n",
       "        text-align: right;\n",
       "    }\n",
       "</style>\n",
       "<table border=\"1\" class=\"dataframe\">\n",
       "  <thead>\n",
       "    <tr style=\"text-align: right;\">\n",
       "      <th></th>\n",
       "      <th>State</th>\n",
       "      <th>Year</th>\n",
       "      <th>Type_code</th>\n",
       "      <th>Type</th>\n",
       "      <th>Age_group</th>\n",
       "      <th>Total</th>\n",
       "    </tr>\n",
       "    <tr>\n",
       "      <th>Gender</th>\n",
       "      <th></th>\n",
       "      <th></th>\n",
       "      <th></th>\n",
       "      <th></th>\n",
       "      <th></th>\n",
       "      <th></th>\n",
       "    </tr>\n",
       "  </thead>\n",
       "  <tbody>\n",
       "    <tr>\n",
       "      <th>Female</th>\n",
       "      <td>West Bengal</td>\n",
       "      <td>2012</td>\n",
       "      <td>Causes</td>\n",
       "      <td>Unemployment</td>\n",
       "      <td>60+</td>\n",
       "      <td>54</td>\n",
       "    </tr>\n",
       "    <tr>\n",
       "      <th>Male</th>\n",
       "      <td>West Bengal</td>\n",
       "      <td>2012</td>\n",
       "      <td>Causes</td>\n",
       "      <td>Unemployment</td>\n",
       "      <td>60+</td>\n",
       "      <td>252</td>\n",
       "    </tr>\n",
       "  </tbody>\n",
       "</table>\n",
       "</div>"
      ],
      "text/plain": [
       "              State  Year Type_code          Type Age_group  Total\n",
       "Gender                                                            \n",
       "Female  West Bengal  2012    Causes  Unemployment       60+     54\n",
       "Male    West Bengal  2012    Causes  Unemployment       60+    252"
      ]
     },
     "execution_count": 33,
     "metadata": {},
     "output_type": "execute_result"
    }
   ],
   "source": [
    "df1=df[df['Type']=='Unemployment'].groupby('Gender')\n",
    "df1.max()"
   ]
  },
  {
   "cell_type": "code",
   "execution_count": 34,
   "metadata": {},
   "outputs": [
    {
     "data": {
      "text/plain": [
       "State        2100\n",
       "Year         2100\n",
       "Type_code    2100\n",
       "Type         2100\n",
       "Gender       2100\n",
       "Age_group    2100\n",
       "Total        2100\n",
       "dtype: int64"
      ]
     },
     "execution_count": 34,
     "metadata": {},
     "output_type": "execute_result"
    }
   ],
   "source": [
    "df1=df[df['Type']=='Family Problems']\n",
    "df1[df1['Gender']=='Male'].sort_values(by='Age_group').count()"
   ]
  },
  {
   "cell_type": "code",
   "execution_count": 35,
   "metadata": {},
   "outputs": [
    {
     "data": {
      "text/plain": [
       "2011    19806\n",
       "2005    19803\n",
       "2012    19799\n",
       "2008    19797\n",
       "2001    19797\n",
       "2007    19794\n",
       "2010    19792\n",
       "2002    19790\n",
       "2009    19786\n",
       "2006    19786\n",
       "2003    19786\n",
       "2004    19783\n",
       "Name: Year, dtype: int64"
      ]
     },
     "execution_count": 35,
     "metadata": {},
     "output_type": "execute_result"
    }
   ],
   "source": [
    "df['Year'].value_counts()"
   ]
  },
  {
   "cell_type": "code",
   "execution_count": 36,
   "metadata": {},
   "outputs": [
    {
     "data": {
      "text/plain": [
       "19806"
      ]
     },
     "execution_count": 36,
     "metadata": {},
     "output_type": "execute_result"
    }
   ],
   "source": [
    "df['Year'].value_counts().max()"
   ]
  },
  {
   "cell_type": "code",
   "execution_count": 37,
   "metadata": {},
   "outputs": [
    {
     "data": {
      "text/plain": [
       "15-29     45223\n",
       "30-44     45193\n",
       "45-59     45146\n",
       "60+       45074\n",
       "0-14      45027\n",
       "0-100+    11856\n",
       "Name: Age_group, dtype: int64"
      ]
     },
     "execution_count": 37,
     "metadata": {},
     "output_type": "execute_result"
    }
   ],
   "source": [
    "df['Age_group'].value_counts()"
   ]
  },
  {
   "cell_type": "code",
   "execution_count": 39,
   "metadata": {},
   "outputs": [
    {
     "data": {
      "text/plain": [
       "State\n",
       "A & N Islands           8109\n",
       "Andhra Pradesh        814059\n",
       "Arunachal Pradesh       6633\n",
       "Assam                 172276\n",
       "Bihar                  46214\n",
       "Chandigarh              5164\n",
       "Chhattisgarh          302354\n",
       "D & N Haveli            3430\n",
       "Daman & Diu             1391\n",
       "Delhi (Ut)             84272\n",
       "Goa                    17363\n",
       "Gujarat               330858\n",
       "Haryana               147176\n",
       "Himachal Pradesh       26562\n",
       "Jammu & Kashmir        14821\n",
       "Jharkhand              49720\n",
       "Karnataka             734825\n",
       "Kerala                538946\n",
       "Lakshadweep               50\n",
       "Madhya Pradesh        451535\n",
       "Maharashtra           901945\n",
       "Manipur                 2102\n",
       "Meghalaya               5415\n",
       "Mizoram                 4154\n",
       "Nagaland                1728\n",
       "Odisha                267234\n",
       "Puducherry             32144\n",
       "Punjab                 46350\n",
       "Rajasthan             255134\n",
       "Sikkim                  9606\n",
       "Tamil Nadu            818691\n",
       "Total (All India)    2911862\n",
       "Total (States)       2858026\n",
       "Total (Uts)            53836\n",
       "Tripura                45965\n",
       "Uttar Pradesh         233352\n",
       "Uttarakhand            18496\n",
       "West Bengal           849936\n",
       "Name: Total, dtype: int64"
      ]
     },
     "execution_count": 39,
     "metadata": {},
     "output_type": "execute_result"
    }
   ],
   "source": [
    "df.groupby('State').Total.sum()"
   ]
  },
  {
   "cell_type": "code",
   "execution_count": 40,
   "metadata": {},
   "outputs": [],
   "source": [
    "df1=df.groupby('Gender')\n",
    "x=df1.get_group('Male')\n",
    "y=df1.get_group('Female')\n",
    "female=y.groupby('Year').sum()\n",
    "male=x.groupby('Year').sum()\n"
   ]
  },
  {
   "cell_type": "code",
   "execution_count": 47,
   "metadata": {},
   "outputs": [
    {
     "data": {
      "image/png": "[encoded data removed]",
      "text/plain": [
       "<Figure size 432x288 with 1 Axes>"
      ]
     },
     "metadata": {
      "needs_background": "light"
     },
     "output_type": "display_data"
    }
   ],
   "source": [
    "import matplotlib.pyplot as plt\n",
    "Age_group=['0-100+', '0-14', '15-29', '30-44', '45-59', '60+']\n",
    "y=df.groupby('Age_group').Total.sum()\n",
    "plt.bar(Age_group,y)\n",
    "plt.show()"
   ]
  },
  {
   "cell_type": "code",
   "execution_count": 105,
   "metadata": {},
   "outputs": [
    {
     "data": {
      "text/plain": [
       "{2001, 2002, 2003, 2004, 2005, 2006, 2007, 2008, 2009, 2010, 2011, 2012}"
      ]
     },
     "execution_count": 105,
     "metadata": {},
     "output_type": "execute_result"
    }
   ],
   "source": [
    "count=df.groupby('Year').Total.count()\n",
    "set(df[\"Year\"])"
   ]
  },
  {
   "cell_type": "code",
   "execution_count": 106,
   "metadata": {},
   "outputs": [
    {
     "data": {
      "image/png": "[encoded data removed]",
      "text/plain": [
       "<Figure size 432x288 with 1 Axes>"
      ]
     },
     "metadata": {
      "needs_background": "light"
     },
     "output_type": "display_data"
    }
   ],
   "source": [
    "import matplotlib.pyplot as plt\n",
    "year=[2001, 2002, 2003, 2004, 2005, 2006, 2007, 2008, 2009, 2010, 2011, 2012]\n",
    "count=df.groupby('Year').Total.count()\n",
    "plt.bar(year,count)\n",
    "plt.show()"
   ]
  },
  {
   "cell_type": "code",
   "execution_count": 110,
   "metadata": {},
   "outputs": [
    {
     "data": {
      "image/png": "[encoded data removed]",
      "text/plain": [
       "<Figure size 2160x1440 with 1 Axes>"
      ]
     },
     "metadata": {
      "needs_background": "light"
     },
     "output_type": "display_data"
    }
   ],
   "source": [
    "import matplotlib.pyplot as plt\n",
    "y=df[df['Year']==df['Year']].groupby('State').Total.count()\n",
    "x=['Assam','Tamil Nadu', 'Chandigarh', 'Rajasthan', 'Tripura','Sikkim','Total (Uts)', 'Punjab','Maharashtra', 'Andhra Pradesh',\n",
    " 'Uttarakhand', 'Nagaland', 'Kerala', 'West Bengal', 'Jammu & Kashmir', 'Gujarat','Uttar Pradesh', 'Haryana','Madhya Pradesh',\n",
    " 'Total (All India)', 'Odisha', 'Karnataka', 'D & N Haveli', 'Total (States)', 'Himachal Pradesh', 'Arunachal Pradesh', 'Puducherry',\n",
    " 'Lakshadweep', 'Bihar', 'Manipur', 'Jharkhand','Goa', 'A & N Islands', 'Daman & Diu','Meghalaya','Delhi (Ut)', 'Chhattisgarh',\n",
    " 'Mizoram']\n",
    "\n",
    "fig=plt.subplots(figsize=(30,20))\n",
    "plt.bar(x,y)\n",
    "plt.show()"
   ]
  },
  {
   "cell_type": "code",
   "execution_count": null,
   "metadata": {},
   "outputs": [],
   "source": []
  }
 ],
 "metadata": {
  "kernelspec": {
   "display_name": "Python 3",
   "language": "python",
   "name": "python3"
  },
  "language_info": {
   "codemirror_mode": {
    "name": "ipython",
    "version": 3
   },
   "file_extension": ".py",
   "mimetype": "text/x-python",
   "name": "python",
   "nbconvert_exporter": "python",
   "pygments_lexer": "ipython3",
   "version": "3.7.6"
  }
 },
 "nbformat": 4,
 "nbformat_minor": 4
}
